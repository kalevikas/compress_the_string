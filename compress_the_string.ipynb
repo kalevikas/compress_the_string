{
 "cells": [
  {
   "cell_type": "code",
   "execution_count": 1,
   "id": "9394ac15",
   "metadata": {},
   "outputs": [],
   "source": [
    "import itertools"
   ]
  },
  {
   "cell_type": "code",
   "execution_count": 2,
   "id": "6e8efcfd",
   "metadata": {},
   "outputs": [
    {
     "name": "stdout",
     "output_type": "stream",
     "text": [
      "['__doc__', '__loader__', '__name__', '__package__', '__spec__', '_grouper', '_tee', '_tee_dataobject', 'accumulate', 'chain', 'combinations', 'combinations_with_replacement', 'compress', 'count', 'cycle', 'dropwhile', 'filterfalse', 'groupby', 'islice', 'permutations', 'product', 'repeat', 'starmap', 'takewhile', 'tee', 'zip_longest']\n"
     ]
    }
   ],
   "source": [
    "print(dir(itertools))"
   ]
  },
  {
   "cell_type": "code",
   "execution_count": 3,
   "id": "02b4354e",
   "metadata": {},
   "outputs": [
    {
     "name": "stdout",
     "output_type": "stream",
     "text": [
      "Help on class compress in module itertools:\n",
      "\n",
      "class compress(builtins.object)\n",
      " |  compress(data, selectors)\n",
      " |  \n",
      " |  Return data elements corresponding to true selector elements.\n",
      " |  \n",
      " |  Forms a shorter iterator from selected data elements using the selectors to\n",
      " |  choose the data elements.\n",
      " |  \n",
      " |  Methods defined here:\n",
      " |  \n",
      " |  __getattribute__(self, name, /)\n",
      " |      Return getattr(self, name).\n",
      " |  \n",
      " |  __iter__(self, /)\n",
      " |      Implement iter(self).\n",
      " |  \n",
      " |  __next__(self, /)\n",
      " |      Implement next(self).\n",
      " |  \n",
      " |  __reduce__(...)\n",
      " |      Return state information for pickling.\n",
      " |  \n",
      " |  ----------------------------------------------------------------------\n",
      " |  Static methods defined here:\n",
      " |  \n",
      " |  __new__(*args, **kwargs) from builtins.type\n",
      " |      Create and return a new object.  See help(type) for accurate signature.\n",
      "\n"
     ]
    }
   ],
   "source": [
    "help(itertools.compress)"
   ]
  },
  {
   "cell_type": "code",
   "execution_count": 4,
   "id": "2811c938",
   "metadata": {},
   "outputs": [
    {
     "name": "stdout",
     "output_type": "stream",
     "text": [
      "<itertools.compress object at 0x000001F4CE423280>\n"
     ]
    }
   ],
   "source": [
    "a=[1,2,3,4,5]\n",
    "sel=[1,0,1,0,1]\n",
    "\n",
    "re=itertools.compress(a,sel)\n",
    "\n",
    "print(re)"
   ]
  },
  {
   "cell_type": "code",
   "execution_count": 5,
   "id": "9a0bd3ce",
   "metadata": {},
   "outputs": [
    {
     "name": "stdout",
     "output_type": "stream",
     "text": [
      "[1, 3, 5]\n"
     ]
    }
   ],
   "source": [
    "a=[1,2,3,4,5]\n",
    "sel=[1,0,1,0,1]\n",
    "\n",
    "re=itertools.compress(a,sel)\n",
    "\n",
    "print(list(re)) #  Return data elements corresponding to true selector elements"
   ]
  },
  {
   "cell_type": "code",
   "execution_count": 6,
   "id": "015924a4",
   "metadata": {},
   "outputs": [
    {
     "name": "stdout",
     "output_type": "stream",
     "text": [
      "[1, 2, 3, 5]\n"
     ]
    }
   ],
   "source": [
    "a=[1,2,3,4,5]\n",
    "sel=[1,1,1,0,1]\n",
    "\n",
    "re=itertools.compress(a,sel)\n",
    "\n",
    "print(list(re)) #  Return data elements corresponding to true selector elements"
   ]
  },
  {
   "cell_type": "code",
   "execution_count": 7,
   "id": "d369da7f",
   "metadata": {},
   "outputs": [
    {
     "name": "stdout",
     "output_type": "stream",
     "text": [
      "['__doc__', '__loader__', '__name__', '__package__', '__spec__', '_grouper', '_tee', '_tee_dataobject', 'accumulate', 'chain', 'combinations', 'combinations_with_replacement', 'compress', 'count', 'cycle', 'dropwhile', 'filterfalse', 'groupby', 'islice', 'permutations', 'product', 'repeat', 'starmap', 'takewhile', 'tee', 'zip_longest']\n"
     ]
    }
   ],
   "source": [
    "print(dir(itertools))"
   ]
  },
  {
   "cell_type": "code",
   "execution_count": 8,
   "id": "7853aa9c",
   "metadata": {},
   "outputs": [
    {
     "name": "stdout",
     "output_type": "stream",
     "text": [
      "Help on class groupby in module itertools:\n",
      "\n",
      "class groupby(builtins.object)\n",
      " |  groupby(iterable, key=None)\n",
      " |  \n",
      " |  make an iterator that returns consecutive keys and groups from the iterable\n",
      " |  \n",
      " |  iterable\n",
      " |    Elements to divide into groups according to the key function.\n",
      " |  key\n",
      " |    A function for computing the group category for each element.\n",
      " |    If the key function is not specified or is None, the element itself\n",
      " |    is used for grouping.\n",
      " |  \n",
      " |  Methods defined here:\n",
      " |  \n",
      " |  __getattribute__(self, name, /)\n",
      " |      Return getattr(self, name).\n",
      " |  \n",
      " |  __iter__(self, /)\n",
      " |      Implement iter(self).\n",
      " |  \n",
      " |  __next__(self, /)\n",
      " |      Implement next(self).\n",
      " |  \n",
      " |  __reduce__(...)\n",
      " |      Return state information for pickling.\n",
      " |  \n",
      " |  __setstate__(...)\n",
      " |      Set state information for unpickling.\n",
      " |  \n",
      " |  ----------------------------------------------------------------------\n",
      " |  Static methods defined here:\n",
      " |  \n",
      " |  __new__(*args, **kwargs) from builtins.type\n",
      " |      Create and return a new object.  See help(type) for accurate signature.\n",
      "\n"
     ]
    }
   ],
   "source": [
    "help(itertools.groupby)"
   ]
  },
  {
   "cell_type": "code",
   "execution_count": null,
   "id": "36abf156",
   "metadata": {},
   "outputs": [],
   "source": [
    "# groupby(iterable, key=None)\n",
    "# make an iterator that returns consecutive keys and groups from the iterable\n",
    "# iterable\n",
    " |    Elements to divide into groups according to the key function.\n",
    " |  # key\n",
    " |    A function for computing the group category for each element.\n",
    " |    If the key function is not specified or is None, the element itself\n",
    " |    is used for grouping.\n"
   ]
  },
  {
   "cell_type": "code",
   "execution_count": 10,
   "id": "226a1392",
   "metadata": {},
   "outputs": [
    {
     "name": "stdout",
     "output_type": "stream",
     "text": [
      "1222311\n",
      "(1, 1) (3, 2) (1, 3) (2, 1)\n"
     ]
    }
   ],
   "source": [
    "from itertools import groupby\n",
    "\n",
    "print(*[(len(list(a)),int(b)) for b,a in groupby(input())])"
   ]
  },
  {
   "cell_type": "code",
   "execution_count": 11,
   "id": "2b0393d5",
   "metadata": {},
   "outputs": [
    {
     "name": "stdout",
     "output_type": "stream",
     "text": [
      "[1, 2, 3, 4, 5]\n"
     ]
    }
   ],
   "source": [
    "a=[1,2,3,4,5]\n",
    "print(a)"
   ]
  },
  {
   "cell_type": "code",
   "execution_count": 12,
   "id": "4bcc4f93",
   "metadata": {},
   "outputs": [
    {
     "name": "stdout",
     "output_type": "stream",
     "text": [
      "1 2 3 4 5\n"
     ]
    }
   ],
   "source": [
    "print(*a)"
   ]
  },
  {
   "cell_type": "code",
   "execution_count": 14,
   "id": "47445801",
   "metadata": {},
   "outputs": [
    {
     "name": "stdout",
     "output_type": "stream",
     "text": [
      " bear is a animal\n",
      "\n",
      " duck is a animal\n",
      "\n",
      " cactus is a plant\n",
      "\n",
      " speed boat is a vehicle\n",
      "\n",
      " school bus is a vehicle\n",
      "\n"
     ]
    }
   ],
   "source": [
    "things = [(\"animal\", \"bear\"), (\"animal\", \"duck\"), (\"plant\", \"cactus\"), (\"vehicle\", \"speed boat\"), (\"vehicle\", \"school bus\")]\n",
    "\n",
    "for key,group in groupby(things,lambda x:x[0]):\n",
    "\n",
    "    for thing in group:\n",
    "        print(f\" {thing[1]} is a {key}\")\n",
    "    \n",
    "        print('')\n",
    "\n"
   ]
  },
  {
   "cell_type": "code",
   "execution_count": 19,
   "id": "ece50736",
   "metadata": {},
   "outputs": [
    {
     "name": "stdout",
     "output_type": "stream",
     "text": [
      "<itertools.groupby object at 0x000001F4CDED9180>\n"
     ]
    }
   ],
   "source": [
    "things = [(\"animal\", \"bear\"), (\"animal\", \"duck\"), (\"plant\", \"cactus\"), (\"vehicle\", \"speed boat\"), (\"vehicle\", \"school bus\")]\n",
    "\n",
    "print(groupby(things))"
   ]
  },
  {
   "cell_type": "code",
   "execution_count": null,
   "id": "24d6c38d",
   "metadata": {},
   "outputs": [],
   "source": []
  }
 ],
 "metadata": {
  "kernelspec": {
   "display_name": "Python 3",
   "language": "python",
   "name": "python3"
  },
  "language_info": {
   "codemirror_mode": {
    "name": "ipython",
    "version": 3
   },
   "file_extension": ".py",
   "mimetype": "text/x-python",
   "name": "python",
   "nbconvert_exporter": "python",
   "pygments_lexer": "ipython3",
   "version": "3.8.8"
  }
 },
 "nbformat": 4,
 "nbformat_minor": 5
}
